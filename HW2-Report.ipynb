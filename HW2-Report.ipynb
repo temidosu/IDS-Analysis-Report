{
 "cells": [
  {
   "cell_type": "code",
   "execution_count": 3,
   "metadata": {},
   "outputs": [
    {
     "name": "stderr",
     "output_type": "stream",
     "text": [
      "/var/folders/0c/wsl9c18x06n17mcb_xl7z69m0000gn/T/ipykernel_17095/746840648.py:2: DtypeWarning: Columns (0,1,3,4,5,6,7,8,9,10,11,12,13,14,15,16,17,18,19,20,21,22,23,24,25,26,27,28,29,30,31,32,33,34,35,36,37,38,39,40,41,42,43,44,45,46,47,48,49,50,51,52,53,54,55,56,57,58,59,60,61,62,63,64,65,66,67,68,69,70,71,72,73,74,75,76,77,78) have mixed types. Specify dtype option on import or set low_memory=False.\n",
      "  file = pd.read_csv(\"archive/02-16-2018.csv\", index_col = 0)\n"
     ]
    },
    {
     "name": "stdout",
     "output_type": "stream",
     "text": [
      "         Protocol            Timestamp Flow Duration Tot Fwd Pkts   \n",
      "Dst Port                                                            \n",
      "0               0  16/02/2018 08:27:23     112640768            3  \\\n",
      "0               0  16/02/2018 08:30:12     112641773            3   \n",
      "35605           6  16/02/2018 08:26:55      20784143           23   \n",
      "0               0  16/02/2018 08:33:01     112640836            3   \n",
      "23              6  16/02/2018 08:27:59            20            1   \n",
      "...           ...                  ...           ...          ...   \n",
      "21              6  16/02/2018 10:36:33             3            1   \n",
      "21              6  16/02/2018 10:36:33             3            1   \n",
      "21              6  16/02/2018 10:36:33             3            1   \n",
      "21              6  16/02/2018 10:36:33             5            1   \n",
      "21              6  16/02/2018 10:36:33             2            1   \n",
      "\n",
      "         Tot Bwd Pkts TotLen Fwd Pkts TotLen Bwd Pkts Fwd Pkt Len Max   \n",
      "Dst Port                                                                \n",
      "0                   0               0               0               0  \\\n",
      "0                   0               0               0               0   \n",
      "35605              44            2416            1344             240   \n",
      "0                   0               0               0               0   \n",
      "23                  1               0               0               0   \n",
      "...               ...             ...             ...             ...   \n",
      "21                  1               0               0               0   \n",
      "21                  1               0               0               0   \n",
      "21                  1               0               0               0   \n",
      "21                  1               0               0               0   \n",
      "21                  1               0               0               0   \n",
      "\n",
      "         Fwd Pkt Len Min Fwd Pkt Len Mean  ... Fwd Seg Size Min Active Mean   \n",
      "Dst Port                                   ...                                \n",
      "0                      0              0.0  ...                0           0  \\\n",
      "0                      0              0.0  ...                0           0   \n",
      "35605                 64       105.043478  ...               20     2624734   \n",
      "0                      0              0.0  ...                0           0   \n",
      "23                     0              0.0  ...               20           0   \n",
      "...                  ...              ...  ...              ...         ...   \n",
      "21                     0              0.0  ...               40           0   \n",
      "21                     0              0.0  ...               40           0   \n",
      "21                     0              0.0  ...               40           0   \n",
      "21                     0              0.0  ...               40           0   \n",
      "21                     0              0.0  ...               40           0   \n",
      "\n",
      "         Active Std Active Max Active Min   Idle Mean    Idle Std  Idle Max   \n",
      "Dst Port                                                                      \n",
      "0               0.0          0          0  56300000.0  138.592929  56300000  \\\n",
      "0               0.0          0          0  56300000.0  263.750829  56300000   \n",
      "35605           0.0    2624734    2624734   9058214.0         0.0   9058214   \n",
      "0               0.0          0          0  56300000.0   82.024387  56300000   \n",
      "23              0.0          0          0         0.0         0.0         0   \n",
      "...             ...        ...        ...         ...         ...       ...   \n",
      "21              0.0          0          0           0         0.0         0   \n",
      "21              0.0          0          0           0         0.0         0   \n",
      "21              0.0          0          0           0         0.0         0   \n",
      "21              0.0          0          0           0         0.0         0   \n",
      "21              0.0          0          0           0         0.0         0   \n",
      "\n",
      "          Idle Min                     Label  \n",
      "Dst Port                                      \n",
      "0         56300000                    Benign  \n",
      "0         56300000                    Benign  \n",
      "35605      9058214                    Benign  \n",
      "0         56300000                    Benign  \n",
      "23               0                    Benign  \n",
      "...            ...                       ...  \n",
      "21               0  DoS attacks-SlowHTTPTest  \n",
      "21               0  DoS attacks-SlowHTTPTest  \n",
      "21               0  DoS attacks-SlowHTTPTest  \n",
      "21               0  DoS attacks-SlowHTTPTest  \n",
      "21               0  DoS attacks-SlowHTTPTest  \n",
      "\n",
      "[1048575 rows x 79 columns]\n"
     ]
    }
   ],
   "source": [
    "import pandas as pd\n",
    "file = pd.read_csv(\"archive/02-16-2018.csv\", index_col = 0)\n",
    "print(file)\n"
   ]
  },
  {
   "cell_type": "code",
   "execution_count": null,
   "metadata": {},
   "outputs": [],
   "source": []
  }
 ],
 "metadata": {
  "kernelspec": {
   "display_name": "Python 3",
   "language": "python",
   "name": "python3"
  },
  "language_info": {
   "codemirror_mode": {
    "name": "ipython",
    "version": 3
   },
   "file_extension": ".py",
   "mimetype": "text/x-python",
   "name": "python",
   "nbconvert_exporter": "python",
   "pygments_lexer": "ipython3",
   "version": "3.11.2"
  },
  "orig_nbformat": 4,
  "vscode": {
   "interpreter": {
    "hash": "b0fa6594d8f4cbf19f97940f81e996739fb7646882a419484c72d19e05852a7e"
   }
  }
 },
 "nbformat": 4,
 "nbformat_minor": 2
}
